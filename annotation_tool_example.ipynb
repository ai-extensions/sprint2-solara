{
 "cells": [
  {
   "cell_type": "code",
   "execution_count": 2,
   "id": "2fce4540-ec7d-44ec-a65d-2be55e9ce758",
   "metadata": {
    "ExecuteTime": {
     "end_time": "2023-11-28T21:37:06.095303300Z",
     "start_time": "2023-11-28T21:37:05.401680953Z"
    }
   },
   "outputs": [],
   "source": [
    "from annotation_tool import map_component, stac_item_creation_component, map_instructions_component, stac_instructions_component"
   ]
  },
  {
   "cell_type": "markdown",
   "id": "2308c518",
   "metadata": {},
   "source": [
    "# Annotation Creation\n",
    "\n",
    "Before creating a STAC item, a geojson file containing the annotations needs to be created.\n",
    "\n",
    "The `map_component` will help us create some annotations without the need for external tools."
   ]
  },
  {
   "cell_type": "code",
   "execution_count": 3,
   "id": "a4a5f112-51fb-44a9-8861-69e56d073726",
   "metadata": {},
   "outputs": [
    {
     "data": {
      "application/vnd.jupyter.widget-view+json": {
       "model_id": "79a6ea777579404a940551b037b8528b",
       "version_major": 2,
       "version_minor": 0
      },
      "text/html": [
       "Cannot show widget. You probably want to rerun the code cell above (<i>Click in the code cell, and press Shift+Enter <kbd>⇧</kbd>+<kbd>↩</kbd></i>)."
      ],
      "text/plain": [
       "Cannot show ipywidgets in text"
      ]
     },
     "metadata": {},
     "output_type": "display_data"
    }
   ],
   "source": [
    "map_instructions_component()"
   ]
  },
  {
   "cell_type": "code",
   "execution_count": 4,
   "id": "0932af45-196b-46f8-af56-7821df40b048",
   "metadata": {
    "ExecuteTime": {
     "end_time": "2023-11-28T21:37:07.138884859Z",
     "start_time": "2023-11-28T21:37:06.815671180Z"
    }
   },
   "outputs": [
    {
     "data": {
      "application/vnd.jupyter.widget-view+json": {
       "model_id": "b540f96c5ad4447e9f0734cb19bf4dae",
       "version_major": 2,
       "version_minor": 0
      },
      "text/html": [
       "Cannot show widget. You probably want to rerun the code cell above (<i>Click in the code cell, and press Shift+Enter <kbd>⇧</kbd>+<kbd>↩</kbd></i>)."
      ],
      "text/plain": [
       "Cannot show ipywidgets in text"
      ]
     },
     "metadata": {},
     "output_type": "display_data"
    }
   ],
   "source": [
    "map_component()"
   ]
  },
  {
   "cell_type": "markdown",
   "id": "9f26febe-d81d-499c-9f01-41b3a118c17c",
   "metadata": {},
   "source": [
    "After the annotations are saved, we can now start working on the STAC item. Using the `stac_item_creation_component`, we have a form available to simplify the creation of a base STAC item which we will be able "
   ]
  },
  {
   "cell_type": "code",
   "execution_count": 5,
   "id": "9bcbcf52-868c-4682-8d85-72da6f7e29d0",
   "metadata": {},
   "outputs": [
    {
     "data": {
      "application/vnd.jupyter.widget-view+json": {
       "model_id": "495fe4202b9842918ba7f42119e68386",
       "version_major": 2,
       "version_minor": 0
      },
      "text/html": [
       "Cannot show widget. You probably want to rerun the code cell above (<i>Click in the code cell, and press Shift+Enter <kbd>⇧</kbd>+<kbd>↩</kbd></i>)."
      ],
      "text/plain": [
       "Cannot show ipywidgets in text"
      ]
     },
     "metadata": {},
     "output_type": "display_data"
    }
   ],
   "source": [
    "stac_instructions_component()"
   ]
  },
  {
   "cell_type": "code",
   "execution_count": 6,
   "id": "6dd03be6-592c-4472-9d29-79cb0908b2de",
   "metadata": {},
   "outputs": [
    {
     "data": {
      "application/vnd.jupyter.widget-view+json": {
       "model_id": "ea91d36bea104732be60a16dcf34c2fe",
       "version_major": 2,
       "version_minor": 0
      },
      "text/html": [
       "Cannot show widget. You probably want to rerun the code cell above (<i>Click in the code cell, and press Shift+Enter <kbd>⇧</kbd>+<kbd>↩</kbd></i>)."
      ],
      "text/plain": [
       "Cannot show ipywidgets in text"
      ]
     },
     "metadata": {},
     "output_type": "display_data"
    }
   ],
   "source": [
    "stac_item_creation_component()"
   ]
  },
  {
   "cell_type": "markdown",
   "id": "8d260abe4f608427",
   "metadata": {
    "collapsed": false,
    "jupyter": {
     "outputs_hidden": false
    }
   },
   "source": [
    "After the STAC item has been created, we can load the file produced by the tool above and load it in a dictionary so we can inspect and modify it   "
   ]
  },
  {
   "cell_type": "code",
   "execution_count": 7,
   "id": "cc9db696b2ebea77",
   "metadata": {
    "ExecuteTime": {
     "end_time": "2024-01-26T20:06:44.696334719Z",
     "start_time": "2024-01-26T20:06:44.653637116Z"
    },
    "collapsed": false,
    "jupyter": {
     "outputs_hidden": false
    }
   },
   "outputs": [],
   "source": [
    "import pystac"
   ]
  },
  {
   "cell_type": "code",
   "execution_count": null,
   "id": "47b4ef8c-3f1e-4ce5-b08b-01e36f82368c",
   "metadata": {},
   "outputs": [],
   "source": [
    "stac_item_file = \"<PATH_TO_STAC_ITEM_FILE>\"\n",
    "stac_item = pystac.read_file(stac_item_file)\n",
    "stac_item"
   ]
  },
  {
   "cell_type": "code",
   "execution_count": null,
   "id": "2fe60fd1-7160-43ea-8445-08ce897490aa",
   "metadata": {},
   "outputs": [],
   "source": [
    "stac_item.validate()"
   ]
  },
  {
   "cell_type": "code",
   "execution_count": null,
   "id": "038e37ae-e62a-4d5a-9ff7-142fd09f8044",
   "metadata": {},
   "outputs": [],
   "source": []
  }
 ],
 "metadata": {
  "kernelspec": {
   "display_name": "Python 3 (ipykernel)",
   "language": "python",
   "name": "python3"
  },
  "language_info": {
   "codemirror_mode": {
    "name": "ipython",
    "version": 3
   },
   "file_extension": ".py",
   "mimetype": "text/x-python",
   "name": "python",
   "nbconvert_exporter": "python",
   "pygments_lexer": "ipython3",
   "version": "3.10.13"
  }
 },
 "nbformat": 4,
 "nbformat_minor": 5
}
