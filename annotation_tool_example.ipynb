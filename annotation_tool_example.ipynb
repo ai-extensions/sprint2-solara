{
 "cells": [
  {
   "cell_type": "code",
   "execution_count": 1,
   "id": "2fce4540-ec7d-44ec-a65d-2be55e9ce758",
   "metadata": {},
   "outputs": [],
   "source": [
    "from annotation_tool import Page"
   ]
  },
  {
   "cell_type": "code",
   "execution_count": 2,
   "id": "0932af45-196b-46f8-af56-7821df40b048",
   "metadata": {},
   "outputs": [
    {
     "data": {
      "application/vnd.jupyter.widget-view+json": {
       "model_id": "929792bf0e4743e0ab5e29b58c70fa4c",
       "version_major": 2,
       "version_minor": 0
      },
      "text/html": [
       "Cannot show widget. You probably want to rerun the code cell above (<i>Click in the code cell, and press Shift+Enter <kbd>⇧</kbd>+<kbd>↩</kbd></i>)."
      ],
      "text/plain": [
       "Cannot show ipywidgets in text"
      ]
     },
     "metadata": {},
     "output_type": "display_data"
    }
   ],
   "source": [
    "Page()"
   ]
  },
  {
   "cell_type": "code",
   "execution_count": null,
   "id": "0ba60b89-7649-4d4a-a93e-89c505a757f6",
   "metadata": {},
   "outputs": [],
   "source": []
  }
 ],
 "metadata": {
  "kernelspec": {
   "display_name": "Python 3 (ipykernel)",
   "language": "python",
   "name": "python3"
  },
  "language_info": {
   "codemirror_mode": {
    "name": "ipython",
    "version": 3
   },
   "file_extension": ".py",
   "mimetype": "text/x-python",
   "name": "python",
   "nbconvert_exporter": "python",
   "pygments_lexer": "ipython3",
   "version": "3.10.13"
  }
 },
 "nbformat": 4,
 "nbformat_minor": 5
}
