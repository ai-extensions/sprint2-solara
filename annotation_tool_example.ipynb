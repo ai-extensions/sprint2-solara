{
 "cells": [
  {
   "cell_type": "code",
   "execution_count": 1,
   "id": "2fce4540-ec7d-44ec-a65d-2be55e9ce758",
   "metadata": {
    "ExecuteTime": {
     "end_time": "2023-11-28T21:37:06.095303300Z",
     "start_time": "2023-11-28T21:37:05.401680953Z"
    }
   },
   "outputs": [],
   "source": [
    "from annotation_tool import map_component, stac_item_creation_component"
   ]
  },
  {
   "cell_type": "markdown",
   "id": "2308c518",
   "metadata": {},
   "source": [
    "# Annotations Creation\n",
    "\n",
    "Before creating a STAC item, a geojson file containing the annotations needs to be created.\n",
    "\n",
    "The `map_component` in the next cell is a customized [Leafmap](https://leafmap.org/) map instance, itself using [Ipyleaflet](https://ipyleaflet.readthedocs.io/en/latest/) \n",
    "\n",
    "In order to create you annotations, follow this Leafmap example about vector creation : [Create Vector with Leafmap](https://leafmap.org/notebooks/45_create_vector/)\n",
    "\n",
    "For convinience, a `Save Annotations` toolbar (lower right corner) has been added to the directly to map which simplifies the process to save the annotations to file."
   ]
  },
  {
   "cell_type": "code",
   "execution_count": 2,
   "id": "0932af45-196b-46f8-af56-7821df40b048",
   "metadata": {
    "ExecuteTime": {
     "end_time": "2023-11-28T21:37:07.138884859Z",
     "start_time": "2023-11-28T21:37:06.815671180Z"
    }
   },
   "outputs": [
    {
     "data": {
      "application/vnd.jupyter.widget-view+json": {
       "model_id": "088ee455d25346a08668a519f5db5564",
       "version_major": 2,
       "version_minor": 0
      },
      "text/html": [
       "Cannot show widget. You probably want to rerun the code cell above (<i>Click in the code cell, and press Shift+Enter <kbd>⇧</kbd>+<kbd>↩</kbd></i>)."
      ],
      "text/plain": [
       "Cannot show ipywidgets in text"
      ]
     },
     "metadata": {},
     "output_type": "display_data"
    }
   ],
   "source": [
    "map_component()"
   ]
  },
  {
   "cell_type": "markdown",
   "id": "9f26febe-d81d-499c-9f01-41b3a118c17c",
   "metadata": {},
   "source": [
    "After the annotations are saved, we can now start working on the STAC item. Using the `stac_item_creation_component`, we have a form available to simplify the creation of a base STAC item which we will be able "
   ]
  },
  {
   "cell_type": "code",
   "execution_count": 3,
   "id": "6dd03be6-592c-4472-9d29-79cb0908b2de",
   "metadata": {},
   "outputs": [
    {
     "data": {
      "application/vnd.jupyter.widget-view+json": {
       "model_id": "03293540be05430e855a06febfd412a8",
       "version_major": 2,
       "version_minor": 0
      },
      "text/html": [
       "Cannot show widget. You probably want to rerun the code cell above (<i>Click in the code cell, and press Shift+Enter <kbd>⇧</kbd>+<kbd>↩</kbd></i>)."
      ],
      "text/plain": [
       "Cannot show ipywidgets in text"
      ]
     },
     "metadata": {},
     "output_type": "display_data"
    }
   ],
   "source": [
    "stac_item_creation_component()"
   ]
  },
  {
   "cell_type": "markdown",
   "id": "8d260abe4f608427",
   "metadata": {
    "collapsed": false,
    "jupyter": {
     "outputs_hidden": false
    }
   },
   "source": [
    "After the STAC item has been created, we can load the file produced by the tool above and load it in a dictionary so we can inspect and modify it   "
   ]
  },
  {
   "cell_type": "code",
   "execution_count": 4,
   "id": "cc9db696b2ebea77",
   "metadata": {
    "ExecuteTime": {
     "end_time": "2024-01-26T20:06:44.696334719Z",
     "start_time": "2024-01-26T20:06:44.653637116Z"
    },
    "collapsed": false,
    "jupyter": {
     "outputs_hidden": false
    }
   },
   "outputs": [],
   "source": [
    "import json"
   ]
  },
  {
   "cell_type": "code",
   "execution_count": 5,
   "id": "47b4ef8c-3f1e-4ce5-b08b-01e36f82368c",
   "metadata": {},
   "outputs": [],
   "source": [
    "stac_item_file = \"<PATH_TO_STAC_ITEM_FILE\"\n",
    "with open(stac_item_file, \"r\", encoding=\"utf-8\") as json_file:\n",
    "    stac_item = json.loads(json_file.read())\n",
    "stac_item"
   ]
  },
  {
   "cell_type": "code",
   "execution_count": null,
   "id": "e4126c3502f6074",
   "metadata": {
    "collapsed": false,
    "jupyter": {
     "outputs_hidden": false
    }
   },
   "outputs": [],
   "source": []
  }
 ],
 "metadata": {
  "kernelspec": {
   "display_name": "Python 3 (ipykernel)",
   "language": "python",
   "name": "python3"
  },
  "language_info": {
   "codemirror_mode": {
    "name": "ipython",
    "version": 3
   },
   "file_extension": ".py",
   "mimetype": "text/x-python",
   "name": "python",
   "nbconvert_exporter": "python",
   "pygments_lexer": "ipython3",
   "version": "3.10.13"
  }
 },
 "nbformat": 4,
 "nbformat_minor": 5
}
