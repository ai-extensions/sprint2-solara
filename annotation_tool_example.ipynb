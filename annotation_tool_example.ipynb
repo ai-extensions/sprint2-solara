{
 "cells": [
  {
   "cell_type": "code",
   "execution_count": 1,
   "id": "2fce4540-ec7d-44ec-a65d-2be55e9ce758",
   "metadata": {
    "ExecuteTime": {
     "end_time": "2023-11-28T21:37:06.095303300Z",
     "start_time": "2023-11-28T21:37:05.401680953Z"
    }
   },
   "outputs": [],
   "source": [
    "from annotation_tool import Page"
   ]
  },
  {
   "cell_type": "code",
   "execution_count": 2,
   "id": "0932af45-196b-46f8-af56-7821df40b048",
   "metadata": {
    "ExecuteTime": {
     "end_time": "2023-11-28T21:37:07.138884859Z",
     "start_time": "2023-11-28T21:37:06.815671180Z"
    }
   },
   "outputs": [
    {
     "data": {
      "application/vnd.jupyter.widget-view+json": {
       "model_id": "496bb0f088e549b8a0048a9b29102b6f",
       "version_major": 2,
       "version_minor": 0
      },
      "text/html": [
       "Cannot show widget. You probably want to rerun the code cell above (<i>Click in the code cell, and press Shift+Enter <kbd>⇧</kbd>+<kbd>↩</kbd></i>)."
      ],
      "text/plain": [
       "Cannot show ipywidgets in text"
      ]
     },
     "metadata": {},
     "output_type": "display_data"
    }
   ],
   "source": [
    "Page()"
   ]
  },
  {
   "cell_type": "code",
   "execution_count": null,
   "id": "6dd03be6-592c-4472-9d29-79cb0908b2de",
   "metadata": {},
   "outputs": [],
   "source": []
  }
 ],
 "metadata": {
  "kernelspec": {
   "display_name": "Python 3 (ipykernel)",
   "language": "python",
   "name": "python3"
  },
  "language_info": {
   "codemirror_mode": {
    "name": "ipython",
    "version": 3
   },
   "file_extension": ".py",
   "mimetype": "text/x-python",
   "name": "python",
   "nbconvert_exporter": "python",
   "pygments_lexer": "ipython3",
   "version": "3.10.13"
  }
 },
 "nbformat": 4,
 "nbformat_minor": 5
}
